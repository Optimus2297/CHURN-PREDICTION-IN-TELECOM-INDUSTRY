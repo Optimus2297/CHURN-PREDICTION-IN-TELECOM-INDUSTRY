{
 "cells": [
  {
   "cell_type": "code",
   "execution_count": 4,
   "metadata": {},
   "outputs": [],
   "source": [
    "import pandas as pd\n",
    "import numpy as np\n",
    "from sklearn.model_selection import train_test_split\n",
    "from sklearn.ensemble import RandomForestClassifier\n",
    "from sklearn.metrics import confusion_matrix, roc_curve\n",
    "import matplotlib.pyplot as plt\n",
    "from sklearn.linear_model import LogisticRegression "
   ]
  },
  {
   "cell_type": "code",
   "execution_count": 5,
   "metadata": {},
   "outputs": [
    {
     "data": {
      "text/html": [
       "<div>\n",
       "<style scoped>\n",
       "    .dataframe tbody tr th:only-of-type {\n",
       "        vertical-align: middle;\n",
       "    }\n",
       "\n",
       "    .dataframe tbody tr th {\n",
       "        vertical-align: top;\n",
       "    }\n",
       "\n",
       "    .dataframe thead th {\n",
       "        text-align: right;\n",
       "    }\n",
       "</style>\n",
       "<table border=\"1\" class=\"dataframe\">\n",
       "  <thead>\n",
       "    <tr style=\"text-align: right;\">\n",
       "      <th></th>\n",
       "      <th>CUSTOMERID</th>\n",
       "      <th>GENDER</th>\n",
       "      <th>SENIORCITIZEN</th>\n",
       "      <th>PARTNER</th>\n",
       "      <th>DEPENDENTS</th>\n",
       "      <th>TENURE</th>\n",
       "      <th>PHONESERVICE</th>\n",
       "      <th>MULTIPLELINES</th>\n",
       "      <th>INTERNETSERVICE</th>\n",
       "      <th>ONLINESECURITY</th>\n",
       "      <th>...</th>\n",
       "      <th>CONTRACT</th>\n",
       "      <th>PAPERLESSBILLING</th>\n",
       "      <th>PAYMENTMETHOD</th>\n",
       "      <th>MONTHLYCHARGES</th>\n",
       "      <th>TOTALCHARGES</th>\n",
       "      <th>MONTHLY_MINUTES_OF_USE</th>\n",
       "      <th>TOTAL_MINUTES_OF_USE</th>\n",
       "      <th>MONTHLY_SMS</th>\n",
       "      <th>TOTAL_SMS</th>\n",
       "      <th>CHURN</th>\n",
       "    </tr>\n",
       "  </thead>\n",
       "  <tbody>\n",
       "    <tr>\n",
       "      <th>0</th>\n",
       "      <td>7590-VHVEG</td>\n",
       "      <td>Female</td>\n",
       "      <td>0</td>\n",
       "      <td>Yes</td>\n",
       "      <td>No</td>\n",
       "      <td>1</td>\n",
       "      <td>No</td>\n",
       "      <td>No phone service</td>\n",
       "      <td>DSL</td>\n",
       "      <td>No</td>\n",
       "      <td>...</td>\n",
       "      <td>Month-to-month</td>\n",
       "      <td>Yes</td>\n",
       "      <td>Electronic check</td>\n",
       "      <td>29.85</td>\n",
       "      <td>29.85</td>\n",
       "      <td>0</td>\n",
       "      <td>0</td>\n",
       "      <td>0</td>\n",
       "      <td>0</td>\n",
       "      <td>No</td>\n",
       "    </tr>\n",
       "    <tr>\n",
       "      <th>1</th>\n",
       "      <td>7795-CFOCW</td>\n",
       "      <td>Male</td>\n",
       "      <td>0</td>\n",
       "      <td>No</td>\n",
       "      <td>No</td>\n",
       "      <td>45</td>\n",
       "      <td>No</td>\n",
       "      <td>No phone service</td>\n",
       "      <td>DSL</td>\n",
       "      <td>Yes</td>\n",
       "      <td>...</td>\n",
       "      <td>One year</td>\n",
       "      <td>No</td>\n",
       "      <td>Bank transfer (automatic)</td>\n",
       "      <td>42.30</td>\n",
       "      <td>1840.75</td>\n",
       "      <td>0</td>\n",
       "      <td>0</td>\n",
       "      <td>0</td>\n",
       "      <td>0</td>\n",
       "      <td>No</td>\n",
       "    </tr>\n",
       "    <tr>\n",
       "      <th>2</th>\n",
       "      <td>6713-OKOMC</td>\n",
       "      <td>Female</td>\n",
       "      <td>0</td>\n",
       "      <td>No</td>\n",
       "      <td>No</td>\n",
       "      <td>10</td>\n",
       "      <td>No</td>\n",
       "      <td>No phone service</td>\n",
       "      <td>DSL</td>\n",
       "      <td>Yes</td>\n",
       "      <td>...</td>\n",
       "      <td>Month-to-month</td>\n",
       "      <td>No</td>\n",
       "      <td>Mailed check</td>\n",
       "      <td>29.75</td>\n",
       "      <td>301.90</td>\n",
       "      <td>0</td>\n",
       "      <td>0</td>\n",
       "      <td>0</td>\n",
       "      <td>0</td>\n",
       "      <td>No</td>\n",
       "    </tr>\n",
       "    <tr>\n",
       "      <th>3</th>\n",
       "      <td>8779-QRDMV</td>\n",
       "      <td>Male</td>\n",
       "      <td>1</td>\n",
       "      <td>No</td>\n",
       "      <td>No</td>\n",
       "      <td>1</td>\n",
       "      <td>No</td>\n",
       "      <td>No phone service</td>\n",
       "      <td>DSL</td>\n",
       "      <td>No</td>\n",
       "      <td>...</td>\n",
       "      <td>Month-to-month</td>\n",
       "      <td>Yes</td>\n",
       "      <td>Electronic check</td>\n",
       "      <td>39.65</td>\n",
       "      <td>39.65</td>\n",
       "      <td>0</td>\n",
       "      <td>0</td>\n",
       "      <td>0</td>\n",
       "      <td>0</td>\n",
       "      <td>Yes</td>\n",
       "    </tr>\n",
       "    <tr>\n",
       "      <th>4</th>\n",
       "      <td>8665-UTDHZ</td>\n",
       "      <td>Male</td>\n",
       "      <td>0</td>\n",
       "      <td>Yes</td>\n",
       "      <td>Yes</td>\n",
       "      <td>1</td>\n",
       "      <td>No</td>\n",
       "      <td>No phone service</td>\n",
       "      <td>DSL</td>\n",
       "      <td>No</td>\n",
       "      <td>...</td>\n",
       "      <td>Month-to-month</td>\n",
       "      <td>No</td>\n",
       "      <td>Electronic check</td>\n",
       "      <td>30.20</td>\n",
       "      <td>30.20</td>\n",
       "      <td>0</td>\n",
       "      <td>0</td>\n",
       "      <td>0</td>\n",
       "      <td>0</td>\n",
       "      <td>Yes</td>\n",
       "    </tr>\n",
       "  </tbody>\n",
       "</table>\n",
       "<p>5 rows × 25 columns</p>\n",
       "</div>"
      ],
      "text/plain": [
       "   CUSTOMERID  GENDER  SENIORCITIZEN PARTNER DEPENDENTS  TENURE PHONESERVICE  \\\n",
       "0  7590-VHVEG  Female              0     Yes         No       1           No   \n",
       "1  7795-CFOCW    Male              0      No         No      45           No   \n",
       "2  6713-OKOMC  Female              0      No         No      10           No   \n",
       "3  8779-QRDMV    Male              1      No         No       1           No   \n",
       "4  8665-UTDHZ    Male              0     Yes        Yes       1           No   \n",
       "\n",
       "      MULTIPLELINES INTERNETSERVICE ONLINESECURITY  ...          CONTRACT  \\\n",
       "0  No phone service             DSL             No  ...    Month-to-month   \n",
       "1  No phone service             DSL            Yes  ...          One year   \n",
       "2  No phone service             DSL            Yes  ...    Month-to-month   \n",
       "3  No phone service             DSL             No  ...    Month-to-month   \n",
       "4  No phone service             DSL             No  ...    Month-to-month   \n",
       "\n",
       "  PAPERLESSBILLING              PAYMENTMETHOD MONTHLYCHARGES TOTALCHARGES  \\\n",
       "0              Yes           Electronic check          29.85        29.85   \n",
       "1               No  Bank transfer (automatic)          42.30      1840.75   \n",
       "2               No               Mailed check          29.75       301.90   \n",
       "3              Yes           Electronic check          39.65        39.65   \n",
       "4               No           Electronic check          30.20        30.20   \n",
       "\n",
       "  MONTHLY_MINUTES_OF_USE TOTAL_MINUTES_OF_USE MONTHLY_SMS  TOTAL_SMS  CHURN  \n",
       "0                      0                    0           0          0     No  \n",
       "1                      0                    0           0          0     No  \n",
       "2                      0                    0           0          0     No  \n",
       "3                      0                    0           0          0    Yes  \n",
       "4                      0                    0           0          0    Yes  \n",
       "\n",
       "[5 rows x 25 columns]"
      ]
     },
     "execution_count": 5,
     "metadata": {},
     "output_type": "execute_result"
    }
   ],
   "source": [
    "data=pd.read_csv(\"C:/Users/Bhaskar22/Desktop/MINIPROJECT/data/TelecomUsageDemoone.csv\")\n",
    "data.head()"
   ]
  },
  {
   "cell_type": "code",
   "execution_count": 6,
   "metadata": {},
   "outputs": [
    {
     "data": {
      "text/html": [
       "<div>\n",
       "<style scoped>\n",
       "    .dataframe tbody tr th:only-of-type {\n",
       "        vertical-align: middle;\n",
       "    }\n",
       "\n",
       "    .dataframe tbody tr th {\n",
       "        vertical-align: top;\n",
       "    }\n",
       "\n",
       "    .dataframe thead th {\n",
       "        text-align: right;\n",
       "    }\n",
       "</style>\n",
       "<table border=\"1\" class=\"dataframe\">\n",
       "  <thead>\n",
       "    <tr style=\"text-align: right;\">\n",
       "      <th></th>\n",
       "      <th>CUSTOMERID</th>\n",
       "      <th>SENIORCITIZEN</th>\n",
       "      <th>TENURE</th>\n",
       "      <th>MONTHLYCHARGES</th>\n",
       "      <th>TOTALCHARGES</th>\n",
       "      <th>MONTHLY_MINUTES_OF_USE</th>\n",
       "      <th>TOTAL_MINUTES_OF_USE</th>\n",
       "      <th>MONTHLY_SMS</th>\n",
       "      <th>TOTAL_SMS</th>\n",
       "      <th>CHURN</th>\n",
       "      <th>...</th>\n",
       "      <th>DEVICEPROTECTION_Yes</th>\n",
       "      <th>TECHSUPPORT_Yes</th>\n",
       "      <th>STREAMINGTV_Yes</th>\n",
       "      <th>STREAMINGMOVIES_Yes</th>\n",
       "      <th>CONTRACT_One year</th>\n",
       "      <th>CONTRACT_Two year</th>\n",
       "      <th>PAPERLESSBILLING_Yes</th>\n",
       "      <th>PAYMENTMETHOD_Credit card (automatic)</th>\n",
       "      <th>PAYMENTMETHOD_Electronic check</th>\n",
       "      <th>PAYMENTMETHOD_Mailed check</th>\n",
       "    </tr>\n",
       "  </thead>\n",
       "  <tbody>\n",
       "    <tr>\n",
       "      <th>0</th>\n",
       "      <td>7590-VHVEG</td>\n",
       "      <td>0</td>\n",
       "      <td>1</td>\n",
       "      <td>29.85</td>\n",
       "      <td>29.85</td>\n",
       "      <td>0</td>\n",
       "      <td>0</td>\n",
       "      <td>0</td>\n",
       "      <td>0</td>\n",
       "      <td>0</td>\n",
       "      <td>...</td>\n",
       "      <td>0</td>\n",
       "      <td>0</td>\n",
       "      <td>0</td>\n",
       "      <td>0</td>\n",
       "      <td>0</td>\n",
       "      <td>0</td>\n",
       "      <td>1</td>\n",
       "      <td>0</td>\n",
       "      <td>1</td>\n",
       "      <td>0</td>\n",
       "    </tr>\n",
       "    <tr>\n",
       "      <th>1</th>\n",
       "      <td>7795-CFOCW</td>\n",
       "      <td>0</td>\n",
       "      <td>45</td>\n",
       "      <td>42.30</td>\n",
       "      <td>1840.75</td>\n",
       "      <td>0</td>\n",
       "      <td>0</td>\n",
       "      <td>0</td>\n",
       "      <td>0</td>\n",
       "      <td>0</td>\n",
       "      <td>...</td>\n",
       "      <td>1</td>\n",
       "      <td>1</td>\n",
       "      <td>0</td>\n",
       "      <td>0</td>\n",
       "      <td>1</td>\n",
       "      <td>0</td>\n",
       "      <td>0</td>\n",
       "      <td>0</td>\n",
       "      <td>0</td>\n",
       "      <td>0</td>\n",
       "    </tr>\n",
       "    <tr>\n",
       "      <th>2</th>\n",
       "      <td>6713-OKOMC</td>\n",
       "      <td>0</td>\n",
       "      <td>10</td>\n",
       "      <td>29.75</td>\n",
       "      <td>301.90</td>\n",
       "      <td>0</td>\n",
       "      <td>0</td>\n",
       "      <td>0</td>\n",
       "      <td>0</td>\n",
       "      <td>0</td>\n",
       "      <td>...</td>\n",
       "      <td>0</td>\n",
       "      <td>0</td>\n",
       "      <td>0</td>\n",
       "      <td>0</td>\n",
       "      <td>0</td>\n",
       "      <td>0</td>\n",
       "      <td>0</td>\n",
       "      <td>0</td>\n",
       "      <td>0</td>\n",
       "      <td>1</td>\n",
       "    </tr>\n",
       "    <tr>\n",
       "      <th>3</th>\n",
       "      <td>8779-QRDMV</td>\n",
       "      <td>1</td>\n",
       "      <td>1</td>\n",
       "      <td>39.65</td>\n",
       "      <td>39.65</td>\n",
       "      <td>0</td>\n",
       "      <td>0</td>\n",
       "      <td>0</td>\n",
       "      <td>0</td>\n",
       "      <td>1</td>\n",
       "      <td>...</td>\n",
       "      <td>1</td>\n",
       "      <td>0</td>\n",
       "      <td>0</td>\n",
       "      <td>1</td>\n",
       "      <td>0</td>\n",
       "      <td>0</td>\n",
       "      <td>1</td>\n",
       "      <td>0</td>\n",
       "      <td>1</td>\n",
       "      <td>0</td>\n",
       "    </tr>\n",
       "    <tr>\n",
       "      <th>4</th>\n",
       "      <td>8665-UTDHZ</td>\n",
       "      <td>0</td>\n",
       "      <td>1</td>\n",
       "      <td>30.20</td>\n",
       "      <td>30.20</td>\n",
       "      <td>0</td>\n",
       "      <td>0</td>\n",
       "      <td>0</td>\n",
       "      <td>0</td>\n",
       "      <td>1</td>\n",
       "      <td>...</td>\n",
       "      <td>0</td>\n",
       "      <td>0</td>\n",
       "      <td>0</td>\n",
       "      <td>0</td>\n",
       "      <td>0</td>\n",
       "      <td>0</td>\n",
       "      <td>0</td>\n",
       "      <td>0</td>\n",
       "      <td>1</td>\n",
       "      <td>0</td>\n",
       "    </tr>\n",
       "  </tbody>\n",
       "</table>\n",
       "<p>5 rows × 29 columns</p>\n",
       "</div>"
      ],
      "text/plain": [
       "   CUSTOMERID  SENIORCITIZEN  TENURE  MONTHLYCHARGES  TOTALCHARGES  \\\n",
       "0  7590-VHVEG              0       1           29.85         29.85   \n",
       "1  7795-CFOCW              0      45           42.30       1840.75   \n",
       "2  6713-OKOMC              0      10           29.75        301.90   \n",
       "3  8779-QRDMV              1       1           39.65         39.65   \n",
       "4  8665-UTDHZ              0       1           30.20         30.20   \n",
       "\n",
       "   MONTHLY_MINUTES_OF_USE  TOTAL_MINUTES_OF_USE  MONTHLY_SMS  TOTAL_SMS  \\\n",
       "0                       0                     0            0          0   \n",
       "1                       0                     0            0          0   \n",
       "2                       0                     0            0          0   \n",
       "3                       0                     0            0          0   \n",
       "4                       0                     0            0          0   \n",
       "\n",
       "   CHURN             ...              DEVICEPROTECTION_Yes  TECHSUPPORT_Yes  \\\n",
       "0      0             ...                                 0                0   \n",
       "1      0             ...                                 1                1   \n",
       "2      0             ...                                 0                0   \n",
       "3      1             ...                                 1                0   \n",
       "4      1             ...                                 0                0   \n",
       "\n",
       "   STREAMINGTV_Yes  STREAMINGMOVIES_Yes  CONTRACT_One year  CONTRACT_Two year  \\\n",
       "0                0                    0                  0                  0   \n",
       "1                0                    0                  1                  0   \n",
       "2                0                    0                  0                  0   \n",
       "3                0                    1                  0                  0   \n",
       "4                0                    0                  0                  0   \n",
       "\n",
       "   PAPERLESSBILLING_Yes  PAYMENTMETHOD_Credit card (automatic)  \\\n",
       "0                     1                                      0   \n",
       "1                     0                                      0   \n",
       "2                     0                                      0   \n",
       "3                     1                                      0   \n",
       "4                     0                                      0   \n",
       "\n",
       "   PAYMENTMETHOD_Electronic check  PAYMENTMETHOD_Mailed check  \n",
       "0                               1                           0  \n",
       "1                               0                           0  \n",
       "2                               0                           1  \n",
       "3                               1                           0  \n",
       "4                               1                           0  \n",
       "\n",
       "[5 rows x 29 columns]"
      ]
     },
     "execution_count": 6,
     "metadata": {},
     "output_type": "execute_result"
    }
   ],
   "source": [
    "\n",
    "data['MULTIPLELINES'].replace('No phone service','No',inplace=True)\n",
    "data['ONLINESECURITY'].replace('No internet service','No',inplace=True)\n",
    "data['ONLINEBACKUP'].replace('No internet service','No',inplace=True)\n",
    "data['DEVICEPROTECTION'].replace('No internet service','No',inplace=True)\n",
    "data['TECHSUPPORT'].replace('No internet service','No',inplace=True)\n",
    "data['STREAMINGTV'].replace('No internet service','No',inplace=True)\n",
    "data['STREAMINGMOVIES'].replace('No internet service','No',inplace=True)\n",
    "data=pd.get_dummies(data,columns=[\"GENDER\",\"PARTNER\",\"DEPENDENTS\",\"PHONESERVICE\",\"MULTIPLELINES\",\"INTERNETSERVICE\",\"ONLINEBACKUP\",\"ONLINESECURITY\",\"DEVICEPROTECTION\",\"TECHSUPPORT\",\"STREAMINGTV\",\"STREAMINGMOVIES\",\"CONTRACT\",\"PAPERLESSBILLING\",\"PAYMENTMETHOD\"],drop_first=True)\n",
    "data['CHURN'] = data['CHURN'].apply(lambda x: 0 if x=='No' else 1)\n",
    "data.head()\n"
   ]
  },
  {
   "cell_type": "code",
   "execution_count": 7,
   "metadata": {},
   "outputs": [
    {
     "data": {
      "text/plain": [
       "<matplotlib.axes._subplots.AxesSubplot at 0x1858ca544a8>"
      ]
     },
     "execution_count": 7,
     "metadata": {},
     "output_type": "execute_result"
    },
    {
     "data": {
      "image/png": "[encoded data removed]",
      "text/plain": [
       "<Figure size 1080x576 with 1 Axes>"
      ]
     },
     "metadata": {
      "needs_background": "light"
     },
     "output_type": "display_data"
    }
   ],
   "source": [
    "#Get Correlation of \"Churn\" with other variables:\n",
    "plt.figure(figsize=(15,8))\n",
    "data.corr()['CHURN'].sort_values(ascending = False).plot(kind='bar')"
   ]
  },
  {
   "cell_type": "code",
   "execution_count": 75,
   "metadata": {},
   "outputs": [
    {
     "name": "stdout",
     "output_type": "stream",
     "text": [
      "Index(['SENIORCITIZEN', 'TENURE', 'MONTHLYCHARGES', 'TOTALCHARGES',\n",
      "       'MONTHLY_MINUTES_OF_USE', 'TOTAL_MINUTES_OF_USE', 'MONTHLY_SMS',\n",
      "       'TOTAL_SMS', 'GENDER_Male', 'PARTNER_Yes', 'DEPENDENTS_Yes',\n",
      "       'PHONESERVICE_Yes', 'MULTIPLELINES_Yes', 'INTERNETSERVICE_Fiber optic',\n",
      "       'INTERNETSERVICE_No', 'ONLINEBACKUP_Yes', 'ONLINESECURITY_Yes',\n",
      "       'DEVICEPROTECTION_Yes', 'TECHSUPPORT_Yes', 'STREAMINGTV_Yes',\n",
      "       'STREAMINGMOVIES_Yes', 'CONTRACT_One year', 'CONTRACT_Two year',\n",
      "       'PAPERLESSBILLING_Yes', 'PAYMENTMETHOD_Credit card (automatic)',\n",
      "       'PAYMENTMETHOD_Electronic check', 'PAYMENTMETHOD_Mailed check'],\n",
      "      dtype='object')\n"
     ]
    }
   ],
   "source": [
    "data.drop([\"CUSTOMERID\"],axis=1,inplace=True)\n",
    "features = data.drop([\"CHURN\"],axis=1).columns\n",
    "data_train,data_test = train_test_split(data,test_size=0.25)\n",
    "print(features)"
   ]
  },
  {
   "cell_type": "code",
   "execution_count": 76,
   "metadata": {},
   "outputs": [],
   "source": [
    "Accuracy_score = []\n",
    "for i in range(1,50):    \n",
    "    clf = RandomForestClassifier(n_estimators=i)\n",
    "    clf.fit(data_train[features],data_train[\"CHURN\"])\n",
    "    pred_clf = clf.predict(data_test[features])\n",
    "    probs = clf.predict_proba(data_test[features])\n",
    "    score = clf.score(data_test[features], data_test[\"CHURN\"])\n",
    "    Accuracy_score.append(clf.score(data_test[features], data_test[\"CHURN\"]))\n",
    "    max(Accuracy_score)"
   ]
  },
  {
   "cell_type": "code",
   "execution_count": 77,
   "metadata": {},
   "outputs": [
    {
     "name": "stdout",
     "output_type": "stream",
     "text": [
      "Accuracy_score: 78.93242475865985\n"
     ]
    }
   ],
   "source": [
    "print(\"Accuracy_score:\",max(Accuracy_score)*100)"
   ]
  },
  {
   "cell_type": "code",
   "execution_count": 78,
   "metadata": {},
   "outputs": [
    {
     "data": {
      "text/html": [
       "<div>\n",
       "<style scoped>\n",
       "    .dataframe tbody tr th:only-of-type {\n",
       "        vertical-align: middle;\n",
       "    }\n",
       "\n",
       "    .dataframe tbody tr th {\n",
       "        vertical-align: top;\n",
       "    }\n",
       "\n",
       "    .dataframe thead th {\n",
       "        text-align: right;\n",
       "    }\n",
       "</style>\n",
       "<table border=\"1\" class=\"dataframe\">\n",
       "  <thead>\n",
       "    <tr style=\"text-align: right;\">\n",
       "      <th></th>\n",
       "      <th>Predicted False</th>\n",
       "      <th>Predicted True</th>\n",
       "    </tr>\n",
       "  </thead>\n",
       "  <tbody>\n",
       "    <tr>\n",
       "      <th>Actual False</th>\n",
       "      <td>1118</td>\n",
       "      <td>163</td>\n",
       "    </tr>\n",
       "    <tr>\n",
       "      <th>Actual True</th>\n",
       "      <td>223</td>\n",
       "      <td>257</td>\n",
       "    </tr>\n",
       "  </tbody>\n",
       "</table>\n",
       "</div>"
      ],
      "text/plain": [
       "              Predicted False  Predicted True\n",
       "Actual False             1118             163\n",
       "Actual True               223             257"
      ]
     },
     "execution_count": 78,
     "metadata": {},
     "output_type": "execute_result"
    }
   ],
   "source": [
    "# Eavluation of model: Confusion matrix.\n",
    "pd.DataFrame(confusion_matrix(data_test[\"CHURN\"],pred_clf),columns=[\"Predicted False\",\"Predicted True\"],index=[\"Actual False\",\"Actual True\"])"
   ]
  },
  {
   "cell_type": "code",
   "execution_count": 79,
   "metadata": {},
   "outputs": [
    {
     "data": {
      "image/png": "[encoded data removed]",
      "text/plain": [
       "<Figure size 432x288 with 1 Axes>"
      ]
     },
     "metadata": {
      "needs_background": "light"
     },
     "output_type": "display_data"
    }
   ],
   "source": [
    "#Plotting of ROC Curve.\n",
    "fpr, tpr, thresholds = roc_curve(data_test[\"CHURN\"],probs[:,1])\n",
    "plt.title(\"Reciever Operating Characteristic\")\n",
    "plt.plot(fpr,tpr,'b')\n",
    "plt.ylabel('True Positive Rate')\n",
    "plt.xlabel('False Positive Rate')\n",
    "plt.show()"
   ]
  },
  {
   "cell_type": "code",
   "execution_count": 80,
   "metadata": {},
   "outputs": [],
   "source": [
    "# Use Logistic Regression, fit and score model.\n",
    "lr = LogisticRegression(penalty='l1')\n",
    "lr.fit(data_train[features],data_train[\"CHURN\"])\n",
    "lr_predict = lr.predict(data_test[features])"
   ]
  },
  {
   "cell_type": "code",
   "execution_count": 81,
   "metadata": {},
   "outputs": [
    {
     "name": "stdout",
     "output_type": "stream",
     "text": [
      "Accuracy :  79.7274275979557\n"
     ]
    }
   ],
   "source": [
    "accuracy_score = lr.score(data_test[features],data_test[\"CHURN\"])\n",
    "print(\"Accuracy : \", accuracy_score*100)"
   ]
  },
  {
   "cell_type": "code",
   "execution_count": 82,
   "metadata": {},
   "outputs": [
    {
     "data": {
      "text/html": [
       "<div>\n",
       "<style scoped>\n",
       "    .dataframe tbody tr th:only-of-type {\n",
       "        vertical-align: middle;\n",
       "    }\n",
       "\n",
       "    .dataframe tbody tr th {\n",
       "        vertical-align: top;\n",
       "    }\n",
       "\n",
       "    .dataframe thead th {\n",
       "        text-align: right;\n",
       "    }\n",
       "</style>\n",
       "<table border=\"1\" class=\"dataframe\">\n",
       "  <thead>\n",
       "    <tr style=\"text-align: right;\">\n",
       "      <th></th>\n",
       "      <th>Predicted False</th>\n",
       "      <th>Predicted True</th>\n",
       "    </tr>\n",
       "  </thead>\n",
       "  <tbody>\n",
       "    <tr>\n",
       "      <th>Actual False</th>\n",
       "      <td>1134</td>\n",
       "      <td>147</td>\n",
       "    </tr>\n",
       "    <tr>\n",
       "      <th>Actual True</th>\n",
       "      <td>210</td>\n",
       "      <td>270</td>\n",
       "    </tr>\n",
       "  </tbody>\n",
       "</table>\n",
       "</div>"
      ],
      "text/plain": [
       "              Predicted False  Predicted True\n",
       "Actual False             1134             147\n",
       "Actual True               210             270"
      ]
     },
     "execution_count": 82,
     "metadata": {},
     "output_type": "execute_result"
    }
   ],
   "source": [
    "# Eavluation of model: Confusion matrix.\n",
    "pd.DataFrame(confusion_matrix(data_test[\"CHURN\"],lr_predict),columns=[\"Predicted False\",\"Predicted True\"],index=[\"Actual False\",\"Actual True\"])\n"
   ]
  },
  {
   "cell_type": "code",
   "execution_count": 83,
   "metadata": {},
   "outputs": [
    {
     "data": {
      "image/png": "[encoded data removed]",
      "text/plain": [
       "<Figure size 432x288 with 1 Axes>"
      ]
     },
     "metadata": {
      "needs_background": "light"
     },
     "output_type": "display_data"
    }
   ],
   "source": [
    "#Plotting of ROC Curve.\n",
    "fpr, tpr, thresholds = roc_curve(data_test[\"CHURN\"],lr_predict)\n",
    "plt.title(\"Reciever Operating Characteristic\")\n",
    "plt.plot(fpr,tpr,'b')\n",
    "plt.ylabel('True Positive Rate')\n",
    "plt.xlabel('False Positive Rate')\n",
    "plt.show()"
   ]
  },
  {
   "cell_type": "code",
   "execution_count": 19,
   "metadata": {},
   "outputs": [],
   "source": [
    "# Use Support Vector Machine,fit and score the model.\n",
    "from sklearn.svm import SVC\n",
    "model_svm = SVC(kernel='linear') \n",
    "model_svm.fit(data_train[features],data_train[\"CHURN\"])\n",
    "preds = model_svm.predict(data_test[features])"
   ]
  },
  {
   "cell_type": "code",
   "execution_count": 20,
   "metadata": {},
   "outputs": [
    {
     "name": "stdout",
     "output_type": "stream",
     "text": [
      "Accuracy :  76.94491766042022\n"
     ]
    }
   ],
   "source": [
    "# Accuracy score for the model.\n",
    "accuracy_score=model_svm.score(data_test[features],data_test[\"CHURN\"])\n",
    "print(\"Accuracy : \", accuracy_score*100)"
   ]
  },
  {
   "cell_type": "code",
   "execution_count": 21,
   "metadata": {},
   "outputs": [
    {
     "data": {
      "text/html": [
       "<div>\n",
       "<style scoped>\n",
       "    .dataframe tbody tr th:only-of-type {\n",
       "        vertical-align: middle;\n",
       "    }\n",
       "\n",
       "    .dataframe tbody tr th {\n",
       "        vertical-align: top;\n",
       "    }\n",
       "\n",
       "    .dataframe thead th {\n",
       "        text-align: right;\n",
       "    }\n",
       "</style>\n",
       "<table border=\"1\" class=\"dataframe\">\n",
       "  <thead>\n",
       "    <tr style=\"text-align: right;\">\n",
       "      <th></th>\n",
       "      <th>Predicted False</th>\n",
       "      <th>Predicted True</th>\n",
       "    </tr>\n",
       "  </thead>\n",
       "  <tbody>\n",
       "    <tr>\n",
       "      <th>Actual False</th>\n",
       "      <td>1166</td>\n",
       "      <td>114</td>\n",
       "    </tr>\n",
       "    <tr>\n",
       "      <th>Actual True</th>\n",
       "      <td>292</td>\n",
       "      <td>189</td>\n",
       "    </tr>\n",
       "  </tbody>\n",
       "</table>\n",
       "</div>"
      ],
      "text/plain": [
       "              Predicted False  Predicted True\n",
       "Actual False             1166             114\n",
       "Actual True               292             189"
      ]
     },
     "execution_count": 21,
     "metadata": {},
     "output_type": "execute_result"
    }
   ],
   "source": [
    "# Eavluation of model: Confusion matrix.\n",
    "pd.DataFrame(confusion_matrix(data_test[\"CHURN\"],preds),columns=[\"Predicted False\",\"Predicted True\"],index=[\"Actual False\",\"Actual True\"])"
   ]
  },
  {
   "cell_type": "code",
   "execution_count": 22,
   "metadata": {},
   "outputs": [
    {
     "data": {
      "image/png": "[encoded data removed]",
      "text/plain": [
       "<Figure size 432x288 with 1 Axes>"
      ]
     },
     "metadata": {
      "needs_background": "light"
     },
     "output_type": "display_data"
    }
   ],
   "source": [
    "#Plotting of ROC Curve.\n",
    "fpr, tpr, thresholds = roc_curve(data_test[\"CHURN\"],preds)\n",
    "plt.title(\"Reciever Operating Characteristic\")\n",
    "plt.plot(fpr,tpr,'b')\n",
    "plt.ylabel('True Positive Rate')\n",
    "plt.xlabel('False Positive Rate')\n",
    "plt.show()"
   ]
  },
  {
   "cell_type": "code",
   "execution_count": 84,
   "metadata": {},
   "outputs": [
    {
     "data": {
      "text/html": [
       "<div>\n",
       "<style scoped>\n",
       "    .dataframe tbody tr th:only-of-type {\n",
       "        vertical-align: middle;\n",
       "    }\n",
       "\n",
       "    .dataframe tbody tr th {\n",
       "        vertical-align: top;\n",
       "    }\n",
       "\n",
       "    .dataframe thead th {\n",
       "        text-align: right;\n",
       "    }\n",
       "</style>\n",
       "<table border=\"1\" class=\"dataframe\">\n",
       "  <thead>\n",
       "    <tr style=\"text-align: right;\">\n",
       "      <th></th>\n",
       "      <th>importance</th>\n",
       "      <th>labels</th>\n",
       "    </tr>\n",
       "  </thead>\n",
       "  <tbody>\n",
       "    <tr>\n",
       "      <th>3</th>\n",
       "      <td>0.111623</td>\n",
       "      <td>TOTALCHARGES</td>\n",
       "    </tr>\n",
       "    <tr>\n",
       "      <th>1</th>\n",
       "      <td>0.110012</td>\n",
       "      <td>TENURE</td>\n",
       "    </tr>\n",
       "    <tr>\n",
       "      <th>2</th>\n",
       "      <td>0.106228</td>\n",
       "      <td>MONTHLYCHARGES</td>\n",
       "    </tr>\n",
       "    <tr>\n",
       "      <th>4</th>\n",
       "      <td>0.100449</td>\n",
       "      <td>MONTHLY_MINUTES_OF_USE</td>\n",
       "    </tr>\n",
       "    <tr>\n",
       "      <th>5</th>\n",
       "      <td>0.091952</td>\n",
       "      <td>TOTAL_MINUTES_OF_USE</td>\n",
       "    </tr>\n",
       "    <tr>\n",
       "      <th>6</th>\n",
       "      <td>0.076818</td>\n",
       "      <td>MONTHLY_SMS</td>\n",
       "    </tr>\n",
       "    <tr>\n",
       "      <th>7</th>\n",
       "      <td>0.075705</td>\n",
       "      <td>TOTAL_SMS</td>\n",
       "    </tr>\n",
       "    <tr>\n",
       "      <th>13</th>\n",
       "      <td>0.039861</td>\n",
       "      <td>INTERNETSERVICE_Fiber optic</td>\n",
       "    </tr>\n",
       "    <tr>\n",
       "      <th>25</th>\n",
       "      <td>0.036789</td>\n",
       "      <td>PAYMENTMETHOD_Electronic check</td>\n",
       "    </tr>\n",
       "    <tr>\n",
       "      <th>22</th>\n",
       "      <td>0.034062</td>\n",
       "      <td>CONTRACT_Two year</td>\n",
       "    </tr>\n",
       "    <tr>\n",
       "      <th>23</th>\n",
       "      <td>0.018403</td>\n",
       "      <td>PAPERLESSBILLING_Yes</td>\n",
       "    </tr>\n",
       "    <tr>\n",
       "      <th>8</th>\n",
       "      <td>0.017493</td>\n",
       "      <td>GENDER_Male</td>\n",
       "    </tr>\n",
       "    <tr>\n",
       "      <th>14</th>\n",
       "      <td>0.016160</td>\n",
       "      <td>INTERNETSERVICE_No</td>\n",
       "    </tr>\n",
       "    <tr>\n",
       "      <th>9</th>\n",
       "      <td>0.015593</td>\n",
       "      <td>PARTNER_Yes</td>\n",
       "    </tr>\n",
       "    <tr>\n",
       "      <th>16</th>\n",
       "      <td>0.015064</td>\n",
       "      <td>ONLINESECURITY_Yes</td>\n",
       "    </tr>\n",
       "    <tr>\n",
       "      <th>18</th>\n",
       "      <td>0.014654</td>\n",
       "      <td>TECHSUPPORT_Yes</td>\n",
       "    </tr>\n",
       "    <tr>\n",
       "      <th>0</th>\n",
       "      <td>0.014297</td>\n",
       "      <td>SENIORCITIZEN</td>\n",
       "    </tr>\n",
       "    <tr>\n",
       "      <th>21</th>\n",
       "      <td>0.013328</td>\n",
       "      <td>CONTRACT_One year</td>\n",
       "    </tr>\n",
       "    <tr>\n",
       "      <th>15</th>\n",
       "      <td>0.012953</td>\n",
       "      <td>ONLINEBACKUP_Yes</td>\n",
       "    </tr>\n",
       "    <tr>\n",
       "      <th>10</th>\n",
       "      <td>0.012822</td>\n",
       "      <td>DEPENDENTS_Yes</td>\n",
       "    </tr>\n",
       "    <tr>\n",
       "      <th>17</th>\n",
       "      <td>0.012099</td>\n",
       "      <td>DEVICEPROTECTION_Yes</td>\n",
       "    </tr>\n",
       "    <tr>\n",
       "      <th>12</th>\n",
       "      <td>0.011844</td>\n",
       "      <td>MULTIPLELINES_Yes</td>\n",
       "    </tr>\n",
       "    <tr>\n",
       "      <th>19</th>\n",
       "      <td>0.011271</td>\n",
       "      <td>STREAMINGTV_Yes</td>\n",
       "    </tr>\n",
       "    <tr>\n",
       "      <th>20</th>\n",
       "      <td>0.010669</td>\n",
       "      <td>STREAMINGMOVIES_Yes</td>\n",
       "    </tr>\n",
       "    <tr>\n",
       "      <th>26</th>\n",
       "      <td>0.009069</td>\n",
       "      <td>PAYMENTMETHOD_Mailed check</td>\n",
       "    </tr>\n",
       "    <tr>\n",
       "      <th>24</th>\n",
       "      <td>0.009059</td>\n",
       "      <td>PAYMENTMETHOD_Credit card (automatic)</td>\n",
       "    </tr>\n",
       "    <tr>\n",
       "      <th>11</th>\n",
       "      <td>0.001725</td>\n",
       "      <td>PHONESERVICE_Yes</td>\n",
       "    </tr>\n",
       "  </tbody>\n",
       "</table>\n",
       "</div>"
      ],
      "text/plain": [
       "    importance                                 labels\n",
       "3     0.111623                           TOTALCHARGES\n",
       "1     0.110012                                 TENURE\n",
       "2     0.106228                         MONTHLYCHARGES\n",
       "4     0.100449                 MONTHLY_MINUTES_OF_USE\n",
       "5     0.091952                   TOTAL_MINUTES_OF_USE\n",
       "6     0.076818                            MONTHLY_SMS\n",
       "7     0.075705                              TOTAL_SMS\n",
       "13    0.039861            INTERNETSERVICE_Fiber optic\n",
       "25    0.036789         PAYMENTMETHOD_Electronic check\n",
       "22    0.034062                      CONTRACT_Two year\n",
       "23    0.018403                   PAPERLESSBILLING_Yes\n",
       "8     0.017493                            GENDER_Male\n",
       "14    0.016160                     INTERNETSERVICE_No\n",
       "9     0.015593                            PARTNER_Yes\n",
       "16    0.015064                     ONLINESECURITY_Yes\n",
       "18    0.014654                        TECHSUPPORT_Yes\n",
       "0     0.014297                          SENIORCITIZEN\n",
       "21    0.013328                      CONTRACT_One year\n",
       "15    0.012953                       ONLINEBACKUP_Yes\n",
       "10    0.012822                         DEPENDENTS_Yes\n",
       "17    0.012099                   DEVICEPROTECTION_Yes\n",
       "12    0.011844                      MULTIPLELINES_Yes\n",
       "19    0.011271                        STREAMINGTV_Yes\n",
       "20    0.010669                    STREAMINGMOVIES_Yes\n",
       "26    0.009069             PAYMENTMETHOD_Mailed check\n",
       "24    0.009059  PAYMENTMETHOD_Credit card (automatic)\n",
       "11    0.001725                       PHONESERVICE_Yes"
      ]
     },
     "execution_count": 84,
     "metadata": {},
     "output_type": "execute_result"
    }
   ],
   "source": [
    "# Find out importance of each feature on predicting variable(churn).\n",
    "data_f = pd.DataFrame(clf.feature_importances_, columns = ['importance'])\n",
    "data_f['labels'] = features\n",
    "data_f.sort_values('importance',ascending=False)"
   ]
  },
  {
   "cell_type": "code",
   "execution_count": 10,
   "metadata": {},
   "outputs": [
    {
     "name": "stdout",
     "output_type": "stream",
     "text": [
      "Correlation: 0.9644537159583317\n"
     ]
    }
   ],
   "source": [
    "print(\"Correlation:\",data['TOTALCHARGES'].corr(data['TOTAL_MINUTES_OF_USE']))"
   ]
  },
  {
   "cell_type": "code",
   "execution_count": 86,
   "metadata": {},
   "outputs": [
    {
     "data": {
      "image/png": "[encoded data removed]",
      "text/plain": [
       "<Figure size 432x288 with 1 Axes>"
      ]
     },
     "metadata": {
      "needs_background": "light"
     },
     "output_type": "display_data"
    }
   ],
   "source": [
    "y_pos = np.arange(len(data_f['labels']))\n",
    "y = data_f['importance'].tolist()\n",
    "x = data_f['labels'].tolist()\n",
    "plt.barh(y_pos,y,align='center',alpha=0.9)\n",
    "plt.yticks(y_pos,x)\n",
    "plt.show()"
   ]
  },
  {
   "cell_type": "markdown",
   "metadata": {},
   "source": []
  }
 ],
 "metadata": {
  "kernelspec": {
   "display_name": "Python 3",
   "language": "python",
   "name": "python3"
  },
  "language_info": {
   "codemirror_mode": {
    "name": "ipython",
    "version": 3
   },
   "file_extension": ".py",
   "mimetype": "text/x-python",
   "name": "python",
   "nbconvert_exporter": "python",
   "pygments_lexer": "ipython3",
   "version": "3.7.0"
  }
 },
 "nbformat": 4,
 "nbformat_minor": 2
}
