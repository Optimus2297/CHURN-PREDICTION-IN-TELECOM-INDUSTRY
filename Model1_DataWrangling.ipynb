{
 "cells": [
  {
   "cell_type": "code",
   "execution_count": 1,
   "metadata": {},
   "outputs": [],
   "source": [
    "import pandas as pd\n",
    "import numpy as np\n",
    "import matplotlib.pyplot as plt\n",
    "import seaborn as sns"
   ]
  },
  {
   "cell_type": "code",
   "execution_count": 2,
   "metadata": {},
   "outputs": [
    {
     "data": {
      "text/html": [
       "<div>\n",
       "<style scoped>\n",
       "    .dataframe tbody tr th:only-of-type {\n",
       "        vertical-align: middle;\n",
       "    }\n",
       "\n",
       "    .dataframe tbody tr th {\n",
       "        vertical-align: top;\n",
       "    }\n",
       "\n",
       "    .dataframe thead th {\n",
       "        text-align: right;\n",
       "    }\n",
       "</style>\n",
       "<table border=\"1\" class=\"dataframe\">\n",
       "  <thead>\n",
       "    <tr style=\"text-align: right;\">\n",
       "      <th></th>\n",
       "      <th>STATE</th>\n",
       "      <th>ACCT_LEN</th>\n",
       "      <th>AREA_CD</th>\n",
       "      <th>PHONE</th>\n",
       "      <th>INTL_PLN</th>\n",
       "      <th>VM_PLN</th>\n",
       "      <th>VM_CNT</th>\n",
       "      <th>DAY_MINS</th>\n",
       "      <th>DAY_CALLS</th>\n",
       "      <th>DAY_CHG</th>\n",
       "      <th>...</th>\n",
       "      <th>EVE_CALLS</th>\n",
       "      <th>EVE_CHG</th>\n",
       "      <th>NITE_MINS</th>\n",
       "      <th>NITE_CALLS</th>\n",
       "      <th>NITE_CHG</th>\n",
       "      <th>INTL_MINS</th>\n",
       "      <th>INTL_CALLS</th>\n",
       "      <th>INTL_CHG</th>\n",
       "      <th>CSRV_CALLS</th>\n",
       "      <th>CHURN</th>\n",
       "    </tr>\n",
       "  </thead>\n",
       "  <tbody>\n",
       "    <tr>\n",
       "      <th>0</th>\n",
       "      <td>KS</td>\n",
       "      <td>128</td>\n",
       "      <td>415</td>\n",
       "      <td>382-4657</td>\n",
       "      <td>no</td>\n",
       "      <td>yes</td>\n",
       "      <td>25</td>\n",
       "      <td>265.1</td>\n",
       "      <td>110</td>\n",
       "      <td>45.07</td>\n",
       "      <td>...</td>\n",
       "      <td>99</td>\n",
       "      <td>16.78</td>\n",
       "      <td>244.7</td>\n",
       "      <td>91</td>\n",
       "      <td>11.01</td>\n",
       "      <td>10.0</td>\n",
       "      <td>3</td>\n",
       "      <td>2.70</td>\n",
       "      <td>1</td>\n",
       "      <td>False.</td>\n",
       "    </tr>\n",
       "    <tr>\n",
       "      <th>1</th>\n",
       "      <td>OH</td>\n",
       "      <td>107</td>\n",
       "      <td>415</td>\n",
       "      <td>371-7191</td>\n",
       "      <td>no</td>\n",
       "      <td>yes</td>\n",
       "      <td>26</td>\n",
       "      <td>161.6</td>\n",
       "      <td>123</td>\n",
       "      <td>27.47</td>\n",
       "      <td>...</td>\n",
       "      <td>103</td>\n",
       "      <td>16.62</td>\n",
       "      <td>254.4</td>\n",
       "      <td>103</td>\n",
       "      <td>11.45</td>\n",
       "      <td>13.7</td>\n",
       "      <td>3</td>\n",
       "      <td>3.70</td>\n",
       "      <td>1</td>\n",
       "      <td>False.</td>\n",
       "    </tr>\n",
       "    <tr>\n",
       "      <th>2</th>\n",
       "      <td>NJ</td>\n",
       "      <td>137</td>\n",
       "      <td>415</td>\n",
       "      <td>358-1921</td>\n",
       "      <td>no</td>\n",
       "      <td>no</td>\n",
       "      <td>0</td>\n",
       "      <td>243.4</td>\n",
       "      <td>114</td>\n",
       "      <td>41.38</td>\n",
       "      <td>...</td>\n",
       "      <td>110</td>\n",
       "      <td>10.30</td>\n",
       "      <td>162.6</td>\n",
       "      <td>104</td>\n",
       "      <td>7.32</td>\n",
       "      <td>12.2</td>\n",
       "      <td>5</td>\n",
       "      <td>3.29</td>\n",
       "      <td>0</td>\n",
       "      <td>False.</td>\n",
       "    </tr>\n",
       "    <tr>\n",
       "      <th>3</th>\n",
       "      <td>OH</td>\n",
       "      <td>84</td>\n",
       "      <td>408</td>\n",
       "      <td>375-9999</td>\n",
       "      <td>yes</td>\n",
       "      <td>no</td>\n",
       "      <td>0</td>\n",
       "      <td>299.4</td>\n",
       "      <td>71</td>\n",
       "      <td>50.90</td>\n",
       "      <td>...</td>\n",
       "      <td>88</td>\n",
       "      <td>5.26</td>\n",
       "      <td>196.9</td>\n",
       "      <td>89</td>\n",
       "      <td>8.86</td>\n",
       "      <td>6.6</td>\n",
       "      <td>7</td>\n",
       "      <td>1.78</td>\n",
       "      <td>2</td>\n",
       "      <td>False.</td>\n",
       "    </tr>\n",
       "    <tr>\n",
       "      <th>4</th>\n",
       "      <td>OK</td>\n",
       "      <td>75</td>\n",
       "      <td>415</td>\n",
       "      <td>330-6626</td>\n",
       "      <td>yes</td>\n",
       "      <td>no</td>\n",
       "      <td>0</td>\n",
       "      <td>166.7</td>\n",
       "      <td>113</td>\n",
       "      <td>28.34</td>\n",
       "      <td>...</td>\n",
       "      <td>122</td>\n",
       "      <td>12.61</td>\n",
       "      <td>186.9</td>\n",
       "      <td>121</td>\n",
       "      <td>8.41</td>\n",
       "      <td>10.1</td>\n",
       "      <td>3</td>\n",
       "      <td>2.73</td>\n",
       "      <td>3</td>\n",
       "      <td>False.</td>\n",
       "    </tr>\n",
       "  </tbody>\n",
       "</table>\n",
       "<p>5 rows × 21 columns</p>\n",
       "</div>"
      ],
      "text/plain": [
       "  STATE  ACCT_LEN  AREA_CD     PHONE INTL_PLN VM_PLN  VM_CNT  DAY_MINS  \\\n",
       "0    KS       128      415  382-4657       no    yes      25     265.1   \n",
       "1    OH       107      415  371-7191       no    yes      26     161.6   \n",
       "2    NJ       137      415  358-1921       no     no       0     243.4   \n",
       "3    OH        84      408  375-9999      yes     no       0     299.4   \n",
       "4    OK        75      415  330-6626      yes     no       0     166.7   \n",
       "\n",
       "   DAY_CALLS  DAY_CHG   ...    EVE_CALLS  EVE_CHG  NITE_MINS  NITE_CALLS  \\\n",
       "0        110    45.07   ...           99    16.78      244.7          91   \n",
       "1        123    27.47   ...          103    16.62      254.4         103   \n",
       "2        114    41.38   ...          110    10.30      162.6         104   \n",
       "3         71    50.90   ...           88     5.26      196.9          89   \n",
       "4        113    28.34   ...          122    12.61      186.9         121   \n",
       "\n",
       "   NITE_CHG  INTL_MINS  INTL_CALLS  INTL_CHG  CSRV_CALLS   CHURN  \n",
       "0     11.01       10.0           3      2.70           1  False.  \n",
       "1     11.45       13.7           3      3.70           1  False.  \n",
       "2      7.32       12.2           5      3.29           0  False.  \n",
       "3      8.86        6.6           7      1.78           2  False.  \n",
       "4      8.41       10.1           3      2.73           3  False.  \n",
       "\n",
       "[5 rows x 21 columns]"
      ]
     },
     "execution_count": 2,
     "metadata": {},
     "output_type": "execute_result"
    }
   ],
   "source": [
    "col_names = ['STATE','ACCT_LEN','AREA_CD','PHONE','INTL_PLN','VM_PLN','VM_CNT','DAY_MINS','DAY_CALLS','DAY_CHG','EVE_MINS','EVE_CALLS','EVE_CHG','NITE_MINS','NITE_CALLS','NITE_CHG','INTL_MINS','INTL_CALLS','INTL_CHG','CSRV_CALLS','CHURN']\n",
    "data=pd.read_csv(\"C:/Users/Bhaskar22/Desktop/MINIPROJECT/data/Mobile_churn_UCI.csv\", names=col_names, header=0)\n",
    "data.head()"
   ]
  },
  {
   "cell_type": "markdown",
   "metadata": {},
   "source": [
    "# Null values"
   ]
  },
  {
   "cell_type": "code",
   "execution_count": 3,
   "metadata": {},
   "outputs": [
    {
     "name": "stdout",
     "output_type": "stream",
     "text": [
      "<class 'pandas.core.frame.DataFrame'>\n",
      "RangeIndex: 3333 entries, 0 to 3332\n",
      "Data columns (total 21 columns):\n",
      "STATE         3333 non-null object\n",
      "ACCT_LEN      3333 non-null int64\n",
      "AREA_CD       3333 non-null int64\n",
      "PHONE         3333 non-null object\n",
      "INTL_PLN      3333 non-null object\n",
      "VM_PLN        3333 non-null object\n",
      "VM_CNT        3333 non-null int64\n",
      "DAY_MINS      3333 non-null float64\n",
      "DAY_CALLS     3333 non-null int64\n",
      "DAY_CHG       3333 non-null float64\n",
      "EVE_MINS      3333 non-null float64\n",
      "EVE_CALLS     3333 non-null int64\n",
      "EVE_CHG       3333 non-null float64\n",
      "NITE_MINS     3333 non-null float64\n",
      "NITE_CALLS    3333 non-null int64\n",
      "NITE_CHG      3333 non-null float64\n",
      "INTL_MINS     3333 non-null float64\n",
      "INTL_CALLS    3333 non-null int64\n",
      "INTL_CHG      3333 non-null float64\n",
      "CSRV_CALLS    3333 non-null int64\n",
      "CHURN         3333 non-null object\n",
      "dtypes: float64(8), int64(8), object(5)\n",
      "memory usage: 546.9+ KB\n"
     ]
    },
    {
     "data": {
      "text/plain": [
       "(3333, 21)"
      ]
     },
     "execution_count": 3,
     "metadata": {},
     "output_type": "execute_result"
    }
   ],
   "source": [
    "data.info()\n",
    "data.shape"
   ]
  },
  {
   "cell_type": "markdown",
   "metadata": {},
   "source": [
    "# Missing values\n"
   ]
  },
  {
   "cell_type": "code",
   "execution_count": 4,
   "metadata": {},
   "outputs": [
    {
     "data": {
      "text/plain": [
       "True"
      ]
     },
     "execution_count": 4,
     "metadata": {},
     "output_type": "execute_result"
    }
   ],
   "source": [
    "all(data.CHURN.notnull())"
   ]
  },
  {
   "cell_type": "markdown",
   "metadata": {},
   "source": [
    "There are 3333 rows and 21 columns. All columns are populated, there are no null or missing values."
   ]
  },
  {
   "cell_type": "markdown",
   "metadata": {},
   "source": [
    "# Convert data types"
   ]
  },
  {
   "cell_type": "code",
   "execution_count": 5,
   "metadata": {},
   "outputs": [],
   "source": [
    "data['STATE'] = data['STATE'].astype('category')\n",
    "data['CHURN'] = data['CHURN'].apply(lambda x: 0 if x=='False.' else 1)   #---> True=1; False=0\n",
    "data['INTL_PLN'] = data['INTL_PLN'].apply(lambda x: 0 if x=='no' else 1) #---> No=0; Yes=1 \n",
    "data['VM_PLN'] = data['VM_PLN'].apply(lambda x: 0 if x=='no' else 1)     #---> No=0; Yes=1 "
   ]
  },
  {
   "cell_type": "code",
   "execution_count": 6,
   "metadata": {
    "scrolled": true
   },
   "outputs": [
    {
     "name": "stdout",
     "output_type": "stream",
     "text": [
      "Correlation: 0.9999999521903994\n"
     ]
    },
    {
     "data": {
      "image/png": "[encoded data removed]",
      "text/plain": [
       "<Figure size 1080x576 with 4 Axes>"
      ]
     },
     "metadata": {
      "needs_background": "light"
     },
     "output_type": "display_data"
    }
   ],
   "source": [
    "features=[\"DAY_CHG\",\"DAY_MINS\",\"DAY_CALLS\"]\n",
    "data[features].hist(figsize=(15,8))\n",
    "print(\"Correlation:\",data['DAY_CHG'].corr(data['DAY_MINS']))"
   ]
  },
  {
   "cell_type": "code",
   "execution_count": 7,
   "metadata": {},
   "outputs": [
    {
     "name": "stdout",
     "output_type": "stream",
     "text": [
      "Correlation: 0.9999997760198502\n"
     ]
    },
    {
     "data": {
      "image/png": "[encoded data removed]",
      "text/plain": [
       "<Figure size 1080x576 with 4 Axes>"
      ]
     },
     "metadata": {
      "needs_background": "light"
     },
     "output_type": "display_data"
    }
   ],
   "source": [
    "features=[\"EVE_CHG\",\"EVE_MINS\",\"EVE_CALLS\"]\n",
    "data[features].hist(figsize=(15,8))\n",
    "print(\"Correlation:\",data['EVE_MINS'].corr(data['EVE_CHG']))"
   ]
  },
  {
   "cell_type": "code",
   "execution_count": 8,
   "metadata": {},
   "outputs": [
    {
     "name": "stdout",
     "output_type": "stream",
     "text": [
      "Correlation: 0.9999927417510324\n"
     ]
    },
    {
     "data": {
      "image/png": "[encoded data removed]",
      "text/plain": [
       "<Figure size 1080x576 with 4 Axes>"
      ]
     },
     "metadata": {
      "needs_background": "light"
     },
     "output_type": "display_data"
    }
   ],
   "source": [
    "features=[\"INTL_MINS\",\"INTL_CHG\",\"INTL_CALLS\"]\n",
    "data[features].hist(figsize=(15,8))\n",
    "print(\"Correlation:\",data['INTL_MINS'].corr(data['INTL_CHG']))"
   ]
  },
  {
   "cell_type": "code",
   "execution_count": 9,
   "metadata": {},
   "outputs": [
    {
     "name": "stdout",
     "output_type": "stream",
     "text": [
      "Correlation: 0.9569266420697519\n"
     ]
    }
   ],
   "source": [
    "print(\"Correlation:\",data['VM_CNT'].corr(data['VM_PLN']))"
   ]
  },
  {
   "cell_type": "code",
   "execution_count": 10,
   "metadata": {},
   "outputs": [
    {
     "name": "stdout",
     "output_type": "stream",
     "text": [
      "<class 'pandas.core.frame.DataFrame'>\n",
      "RangeIndex: 3333 entries, 0 to 3332\n",
      "Data columns (total 14 columns):\n",
      "ACCT_LEN      3333 non-null int64\n",
      "INTL_PLN      3333 non-null int64\n",
      "VM_PLN        3333 non-null int64\n",
      "VM_CNT        3333 non-null int64\n",
      "DAY_MINS      3333 non-null float64\n",
      "DAY_CALLS     3333 non-null int64\n",
      "EVE_MINS      3333 non-null float64\n",
      "EVE_CALLS     3333 non-null int64\n",
      "NITE_MINS     3333 non-null float64\n",
      "NITE_CALLS    3333 non-null int64\n",
      "INTL_MINS     3333 non-null float64\n",
      "INTL_CALLS    3333 non-null int64\n",
      "CSRV_CALLS    3333 non-null int64\n",
      "CHURN         3333 non-null int64\n",
      "dtypes: float64(4), int64(10)\n",
      "memory usage: 364.6 KB\n"
     ]
    },
    {
     "data": {
      "text/html": [
       "<div>\n",
       "<style scoped>\n",
       "    .dataframe tbody tr th:only-of-type {\n",
       "        vertical-align: middle;\n",
       "    }\n",
       "\n",
       "    .dataframe tbody tr th {\n",
       "        vertical-align: top;\n",
       "    }\n",
       "\n",
       "    .dataframe thead th {\n",
       "        text-align: right;\n",
       "    }\n",
       "</style>\n",
       "<table border=\"1\" class=\"dataframe\">\n",
       "  <thead>\n",
       "    <tr style=\"text-align: right;\">\n",
       "      <th></th>\n",
       "      <th>ACCT_LEN</th>\n",
       "      <th>INTL_PLN</th>\n",
       "      <th>VM_PLN</th>\n",
       "      <th>VM_CNT</th>\n",
       "      <th>DAY_MINS</th>\n",
       "      <th>DAY_CALLS</th>\n",
       "      <th>EVE_MINS</th>\n",
       "      <th>EVE_CALLS</th>\n",
       "      <th>NITE_MINS</th>\n",
       "      <th>NITE_CALLS</th>\n",
       "      <th>INTL_MINS</th>\n",
       "      <th>INTL_CALLS</th>\n",
       "      <th>CSRV_CALLS</th>\n",
       "      <th>CHURN</th>\n",
       "    </tr>\n",
       "  </thead>\n",
       "  <tbody>\n",
       "    <tr>\n",
       "      <th>0</th>\n",
       "      <td>128</td>\n",
       "      <td>0</td>\n",
       "      <td>1</td>\n",
       "      <td>25</td>\n",
       "      <td>265.1</td>\n",
       "      <td>110</td>\n",
       "      <td>197.4</td>\n",
       "      <td>99</td>\n",
       "      <td>244.7</td>\n",
       "      <td>91</td>\n",
       "      <td>10.0</td>\n",
       "      <td>3</td>\n",
       "      <td>1</td>\n",
       "      <td>0</td>\n",
       "    </tr>\n",
       "    <tr>\n",
       "      <th>1</th>\n",
       "      <td>107</td>\n",
       "      <td>0</td>\n",
       "      <td>1</td>\n",
       "      <td>26</td>\n",
       "      <td>161.6</td>\n",
       "      <td>123</td>\n",
       "      <td>195.5</td>\n",
       "      <td>103</td>\n",
       "      <td>254.4</td>\n",
       "      <td>103</td>\n",
       "      <td>13.7</td>\n",
       "      <td>3</td>\n",
       "      <td>1</td>\n",
       "      <td>0</td>\n",
       "    </tr>\n",
       "    <tr>\n",
       "      <th>2</th>\n",
       "      <td>137</td>\n",
       "      <td>0</td>\n",
       "      <td>0</td>\n",
       "      <td>0</td>\n",
       "      <td>243.4</td>\n",
       "      <td>114</td>\n",
       "      <td>121.2</td>\n",
       "      <td>110</td>\n",
       "      <td>162.6</td>\n",
       "      <td>104</td>\n",
       "      <td>12.2</td>\n",
       "      <td>5</td>\n",
       "      <td>0</td>\n",
       "      <td>0</td>\n",
       "    </tr>\n",
       "    <tr>\n",
       "      <th>3</th>\n",
       "      <td>84</td>\n",
       "      <td>1</td>\n",
       "      <td>0</td>\n",
       "      <td>0</td>\n",
       "      <td>299.4</td>\n",
       "      <td>71</td>\n",
       "      <td>61.9</td>\n",
       "      <td>88</td>\n",
       "      <td>196.9</td>\n",
       "      <td>89</td>\n",
       "      <td>6.6</td>\n",
       "      <td>7</td>\n",
       "      <td>2</td>\n",
       "      <td>0</td>\n",
       "    </tr>\n",
       "    <tr>\n",
       "      <th>4</th>\n",
       "      <td>75</td>\n",
       "      <td>1</td>\n",
       "      <td>0</td>\n",
       "      <td>0</td>\n",
       "      <td>166.7</td>\n",
       "      <td>113</td>\n",
       "      <td>148.3</td>\n",
       "      <td>122</td>\n",
       "      <td>186.9</td>\n",
       "      <td>121</td>\n",
       "      <td>10.1</td>\n",
       "      <td>3</td>\n",
       "      <td>3</td>\n",
       "      <td>0</td>\n",
       "    </tr>\n",
       "  </tbody>\n",
       "</table>\n",
       "</div>"
      ],
      "text/plain": [
       "   ACCT_LEN  INTL_PLN  VM_PLN  VM_CNT  DAY_MINS  DAY_CALLS  EVE_MINS  \\\n",
       "0       128         0       1      25     265.1        110     197.4   \n",
       "1       107         0       1      26     161.6        123     195.5   \n",
       "2       137         0       0       0     243.4        114     121.2   \n",
       "3        84         1       0       0     299.4         71      61.9   \n",
       "4        75         1       0       0     166.7        113     148.3   \n",
       "\n",
       "   EVE_CALLS  NITE_MINS  NITE_CALLS  INTL_MINS  INTL_CALLS  CSRV_CALLS  CHURN  \n",
       "0         99      244.7          91       10.0           3           1      0  \n",
       "1        103      254.4         103       13.7           3           1      0  \n",
       "2        110      162.6         104       12.2           5           0      0  \n",
       "3         88      196.9          89        6.6           7           2      0  \n",
       "4        122      186.9         121       10.1           3           3      0  "
      ]
     },
     "execution_count": 10,
     "metadata": {},
     "output_type": "execute_result"
    }
   ],
   "source": [
    "data.drop(['PHONE'],axis=1,inplace=True)\n",
    "data.drop(['DAY_CHG'],axis=1,inplace=True)\n",
    "data.drop(['EVE_CHG'],axis=1,inplace=True)\n",
    "data.drop(['INTL_CHG'],axis=1,inplace=True)\n",
    "data.drop(['NITE_CHG'],axis=1,inplace=True)\n",
    "#data.drop(['VM_CNT'],axis=1,inplace=True)\n",
    "\n",
    "data.drop(['STATE'],axis=1,inplace=True)\n",
    "data.drop(['AREA_CD'],axis=1,inplace=True)\n",
    "\n",
    "data.info()\n",
    "data.head()"
   ]
  },
  {
   "cell_type": "code",
   "execution_count": 11,
   "metadata": {},
   "outputs": [],
   "source": [
    "data.to_csv('C:/Users/Bhaskar22/Desktop/MINIPROJECT/data/Mobile_churn_UCI_Cleaned.csv')"
   ]
  }
 ],
 "metadata": {
  "kernelspec": {
   "display_name": "Python 3",
   "language": "python",
   "name": "python3"
  },
  "language_info": {
   "codemirror_mode": {
    "name": "ipython",
    "version": 3
   },
   "file_extension": ".py",
   "mimetype": "text/x-python",
   "name": "python",
   "nbconvert_exporter": "python",
   "pygments_lexer": "ipython3",
   "version": "3.7.0"
  }
 },
 "nbformat": 4,
 "nbformat_minor": 2
}
